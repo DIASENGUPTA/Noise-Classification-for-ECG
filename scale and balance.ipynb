{
 "cells": [
  {
   "cell_type": "code",
   "execution_count": 2,
   "id": "suspended-explosion",
   "metadata": {},
   "outputs": [],
   "source": [
    "import pandas as pd"
   ]
  },
  {
   "cell_type": "code",
   "execution_count": 6,
   "id": "alpine-behalf",
   "metadata": {},
   "outputs": [],
   "source": [
    "read_file=pd.read_csv(r'D:/calcutta univ internships/final dataset/set-a/csv correct/jumbled.csv')\n",
    "df_read=read_file.drop('1001', axis=1)"
   ]
  },
  {
   "cell_type": "code",
   "execution_count": 9,
   "id": "floral-penalty",
   "metadata": {},
   "outputs": [
    {
     "data": {
      "text/plain": [
       "1       -16000\n",
       "2       -16000\n",
       "3       -16000\n",
       "4       -16000\n",
       "5       -16000\n",
       "         ...  \n",
       "996     -16000\n",
       "997     -16000\n",
       "998     -16000\n",
       "999     -16000\n",
       "1000    -16000\n",
       "Name: 0, Length: 1000, dtype: object"
      ]
     },
     "execution_count": 9,
     "metadata": {},
     "output_type": "execute_result"
    }
   ],
   "source": [
    "df_read.iloc[0,:]"
   ]
  },
  {
   "cell_type": "code",
   "execution_count": null,
   "id": "particular-swaziland",
   "metadata": {},
   "outputs": [],
   "source": [
    "def min_max_scaling(df):\n",
    "    # copy the dataframe\n",
    "    df_norm = df.copy()\n",
    "    # apply min-max scaling\n",
    "    for i in range(0,12000):\n",
    "        if df_norm.iloc[i,:].max() - df_norm.iloc[i,:].min()==0:\n",
    "            df_norm.iloc[i,:]=0\n",
    "        else:\n",
    "            df_norm.iloc[i,:] = (df_norm.iloc[i,:] - df_norm.iloc[i,:].min()) / (df_norm.iloc[i,:].max() - df_norm.iloc[i,:].min())\n",
    "        \n",
    "    return df_norm\n",
    "    \n",
    "# call the min_max_scaling function\n",
    "df_normalized = min_max_scaling(df_read)\n",
    "df_normalized.head()"
   ]
  },
  {
   "cell_type": "code",
   "execution_count": null,
   "id": "double-orlando",
   "metadata": {},
   "outputs": [],
   "source": []
  }
 ],
 "metadata": {
  "kernelspec": {
   "display_name": "Python 3",
   "language": "python",
   "name": "python3"
  },
  "language_info": {
   "codemirror_mode": {
    "name": "ipython",
    "version": 3
   },
   "file_extension": ".py",
   "mimetype": "text/x-python",
   "name": "python",
   "nbconvert_exporter": "python",
   "pygments_lexer": "ipython3",
   "version": "3.6.12"
  }
 },
 "nbformat": 4,
 "nbformat_minor": 5
}
